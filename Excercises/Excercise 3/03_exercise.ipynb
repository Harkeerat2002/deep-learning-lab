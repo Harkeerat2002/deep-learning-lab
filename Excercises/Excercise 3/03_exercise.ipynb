{
  "cells": [
    {
      "cell_type": "markdown",
      "metadata": {
        "id": "ZzbFUbueF-1I"
      },
      "source": [
        "# Task for Today  \n",
        "\n",
        "***\n",
        "\n",
        "## Legendary Pokémon Classification  \n",
        "\n",
        "Use a FeedForward Neural Network to predict if a given Pokémon is **legendary** or not, based on *Pokémon features*.\n",
        "\n",
        "\n",
        "<img src=\"https://wallpapers.com/images/hd/legendary-pokemon-pictures-7yo7x0f1l2b2tu0r.jpg\" width=\"800\" height=\"500\" alt=\"legendaries\">\n",
        "\n",
        "Data available at: https://gist.github.com/armgilles/194bcff35001e7eb53a2a8b441e8b2c6\n",
        "\n",
        "Download the zip file, extract it and put the `pokemon.csv` file in the file section of colab."
      ]
    },
    {
      "cell_type": "markdown",
      "metadata": {
        "id": "xq0moBocV6gU"
      },
      "source": [
        "# Challenge\n",
        "\n",
        "TAs want to battle!\n",
        "\n",
        "<img src=\"https://pokemongohub.net/wp-content/uploads/2023/06/grunts-1.jpg\" width=\"400\" height=\"300\" alt=\"TAs\">\n",
        "\n",
        "Rules of the challenge:\n",
        "\n",
        "- Gotta catch 'em all! ...But give priority to the legendaries.\n",
        "- F1-score is usually the measure of choice for imbalanced datasets; however in this case we particularly want to avoid not \"catching\" legendaries. They're so rare, you might not have any more chances to catch 'em if they flee...\n",
        "- In ML terms, we give recall more importance than precision for the task (check the whiteboard if you don't know their meaning).\n",
        "- F2-score (i.e., [F-$\\beta$-score](https://scikit-learn.org/stable/modules/generated/sklearn.metrics.fbeta_score.html) with $\\beta = 2$) is hence used as the main evaluation metric for your model.\n",
        "\n",
        "- **TAs achieved a F2-score of 0.7692. Can you beat them?!**"
      ]
    },
    {
      "cell_type": "markdown",
      "metadata": {
        "id": "4u8Vl29CF-1J"
      },
      "source": [
        "# Imports and dataset"
      ]
    },
    {
      "cell_type": "code",
      "execution_count": 1,
      "metadata": {
        "_cell_guid": "79c7e3d0-c299-4dcb-8224-4455121ee9b0",
        "_uuid": "d629ff2d2480ee46fbb7e2d37f6b5fab8052498a",
        "execution": {
          "iopub.execute_input": "2023-10-10T14:53:17.491581Z",
          "iopub.status.busy": "2023-10-10T14:53:17.491233Z",
          "iopub.status.idle": "2023-10-10T14:53:26.820229Z",
          "shell.execute_reply": "2023-10-10T14:53:26.818905Z",
          "shell.execute_reply.started": "2023-10-10T14:53:17.491549Z"
        },
        "id": "DQ8jq20NF-1K",
        "trusted": true
      },
      "outputs": [
        {
          "ename": "ModuleNotFoundError",
          "evalue": "No module named 'numpy'",
          "output_type": "error",
          "traceback": [
            "\u001b[1;31m---------------------------------------------------------------------------\u001b[0m",
            "\u001b[1;31mModuleNotFoundError\u001b[0m                       Traceback (most recent call last)",
            "\u001b[1;32md:\\GitRepo\\DilTech\\deep-learning-lab\\Excercises\\Excercise 3\\03_exercise.ipynb Cell 4\u001b[0m line \u001b[0;36m1\n\u001b[1;32m----> <a href='vscode-notebook-cell:/d%3A/GitRepo/DilTech/deep-learning-lab/Excercises/Excercise%203/03_exercise.ipynb#W3sZmlsZQ%3D%3D?line=0'>1</a>\u001b[0m \u001b[39mimport\u001b[39;00m \u001b[39mnumpy\u001b[39;00m \u001b[39mas\u001b[39;00m \u001b[39mnp\u001b[39;00m\n\u001b[0;32m      <a href='vscode-notebook-cell:/d%3A/GitRepo/DilTech/deep-learning-lab/Excercises/Excercise%203/03_exercise.ipynb#W3sZmlsZQ%3D%3D?line=1'>2</a>\u001b[0m \u001b[39mimport\u001b[39;00m \u001b[39mpandas\u001b[39;00m \u001b[39mas\u001b[39;00m \u001b[39mpd\u001b[39;00m\n\u001b[0;32m      <a href='vscode-notebook-cell:/d%3A/GitRepo/DilTech/deep-learning-lab/Excercises/Excercise%203/03_exercise.ipynb#W3sZmlsZQ%3D%3D?line=2'>3</a>\u001b[0m \u001b[39mimport\u001b[39;00m \u001b[39mmatplotlib\u001b[39;00m\u001b[39m.\u001b[39;00m\u001b[39mpyplot\u001b[39;00m \u001b[39mas\u001b[39;00m \u001b[39mplt\u001b[39;00m\n",
            "\u001b[1;31mModuleNotFoundError\u001b[0m: No module named 'numpy'"
          ]
        }
      ],
      "source": [
        "import numpy as np\n",
        "import pandas as pd\n",
        "import matplotlib.pyplot as plt\n",
        "\n",
        "from sklearn.preprocessing import LabelEncoder, StandardScaler\n",
        "from sklearn.model_selection import train_test_split\n",
        "\n",
        "import torch\n",
        "from torch import nn\n",
        "import torch.optim as optim\n",
        "import platform"
      ]
    },
    {
      "cell_type": "code",
      "execution_count": 6,
      "metadata": {
        "id": "kYbH9SzNrbeP"
      },
      "outputs": [],
      "source": [
        "_ = torch.manual_seed(42) # for a fair comparison, don't change the seed!"
      ]
    },
    {
      "cell_type": "code",
      "execution_count": 7,
      "metadata": {
        "execution": {
          "iopub.execute_input": "2023-10-09T10:03:59.333403Z",
          "iopub.status.busy": "2023-10-09T10:03:59.333013Z",
          "iopub.status.idle": "2023-10-09T10:03:59.370972Z",
          "shell.execute_reply": "2023-10-09T10:03:59.369989Z",
          "shell.execute_reply.started": "2023-10-09T10:03:59.333344Z"
        },
        "id": "OkMbLcx_F-1L",
        "trusted": true
      },
      "outputs": [],
      "source": [
        "data = pd.read_csv('pokemon.csv')"
      ]
    },
    {
      "cell_type": "code",
      "execution_count": 8,
      "metadata": {
        "execution": {
          "iopub.execute_input": "2023-10-09T10:04:00.051352Z",
          "iopub.status.busy": "2023-10-09T10:04:00.050779Z",
          "iopub.status.idle": "2023-10-09T10:04:00.235069Z",
          "shell.execute_reply": "2023-10-09T10:04:00.234085Z",
          "shell.execute_reply.started": "2023-10-09T10:04:00.051296Z"
        },
        "id": "1cIpYa1HF-1L",
        "trusted": true
      },
      "outputs": [
        {
          "data": {
            "text/html": [
              "<div>\n",
              "<style scoped>\n",
              "    .dataframe tbody tr th:only-of-type {\n",
              "        vertical-align: middle;\n",
              "    }\n",
              "\n",
              "    .dataframe tbody tr th {\n",
              "        vertical-align: top;\n",
              "    }\n",
              "\n",
              "    .dataframe thead th {\n",
              "        text-align: right;\n",
              "    }\n",
              "</style>\n",
              "<table border=\"1\" class=\"dataframe\">\n",
              "  <thead>\n",
              "    <tr style=\"text-align: right;\">\n",
              "      <th></th>\n",
              "      <th>#</th>\n",
              "      <th>Name</th>\n",
              "      <th>Type 1</th>\n",
              "      <th>Type 2</th>\n",
              "      <th>Total</th>\n",
              "      <th>HP</th>\n",
              "      <th>Attack</th>\n",
              "      <th>Defense</th>\n",
              "      <th>Sp. Atk</th>\n",
              "      <th>Sp. Def</th>\n",
              "      <th>Speed</th>\n",
              "      <th>Generation</th>\n",
              "      <th>Legendary</th>\n",
              "    </tr>\n",
              "  </thead>\n",
              "  <tbody>\n",
              "    <tr>\n",
              "      <th>0</th>\n",
              "      <td>1</td>\n",
              "      <td>Bulbasaur</td>\n",
              "      <td>Grass</td>\n",
              "      <td>Poison</td>\n",
              "      <td>318</td>\n",
              "      <td>45</td>\n",
              "      <td>49</td>\n",
              "      <td>49</td>\n",
              "      <td>65</td>\n",
              "      <td>65</td>\n",
              "      <td>45</td>\n",
              "      <td>1</td>\n",
              "      <td>False</td>\n",
              "    </tr>\n",
              "    <tr>\n",
              "      <th>1</th>\n",
              "      <td>2</td>\n",
              "      <td>Ivysaur</td>\n",
              "      <td>Grass</td>\n",
              "      <td>Poison</td>\n",
              "      <td>405</td>\n",
              "      <td>60</td>\n",
              "      <td>62</td>\n",
              "      <td>63</td>\n",
              "      <td>80</td>\n",
              "      <td>80</td>\n",
              "      <td>60</td>\n",
              "      <td>1</td>\n",
              "      <td>False</td>\n",
              "    </tr>\n",
              "    <tr>\n",
              "      <th>2</th>\n",
              "      <td>3</td>\n",
              "      <td>Venusaur</td>\n",
              "      <td>Grass</td>\n",
              "      <td>Poison</td>\n",
              "      <td>525</td>\n",
              "      <td>80</td>\n",
              "      <td>82</td>\n",
              "      <td>83</td>\n",
              "      <td>100</td>\n",
              "      <td>100</td>\n",
              "      <td>80</td>\n",
              "      <td>1</td>\n",
              "      <td>False</td>\n",
              "    </tr>\n",
              "    <tr>\n",
              "      <th>3</th>\n",
              "      <td>3</td>\n",
              "      <td>VenusaurMega Venusaur</td>\n",
              "      <td>Grass</td>\n",
              "      <td>Poison</td>\n",
              "      <td>625</td>\n",
              "      <td>80</td>\n",
              "      <td>100</td>\n",
              "      <td>123</td>\n",
              "      <td>122</td>\n",
              "      <td>120</td>\n",
              "      <td>80</td>\n",
              "      <td>1</td>\n",
              "      <td>False</td>\n",
              "    </tr>\n",
              "    <tr>\n",
              "      <th>4</th>\n",
              "      <td>4</td>\n",
              "      <td>Charmander</td>\n",
              "      <td>Fire</td>\n",
              "      <td>NaN</td>\n",
              "      <td>309</td>\n",
              "      <td>39</td>\n",
              "      <td>52</td>\n",
              "      <td>43</td>\n",
              "      <td>60</td>\n",
              "      <td>50</td>\n",
              "      <td>65</td>\n",
              "      <td>1</td>\n",
              "      <td>False</td>\n",
              "    </tr>\n",
              "    <tr>\n",
              "      <th>...</th>\n",
              "      <td>...</td>\n",
              "      <td>...</td>\n",
              "      <td>...</td>\n",
              "      <td>...</td>\n",
              "      <td>...</td>\n",
              "      <td>...</td>\n",
              "      <td>...</td>\n",
              "      <td>...</td>\n",
              "      <td>...</td>\n",
              "      <td>...</td>\n",
              "      <td>...</td>\n",
              "      <td>...</td>\n",
              "      <td>...</td>\n",
              "    </tr>\n",
              "    <tr>\n",
              "      <th>795</th>\n",
              "      <td>719</td>\n",
              "      <td>Diancie</td>\n",
              "      <td>Rock</td>\n",
              "      <td>Fairy</td>\n",
              "      <td>600</td>\n",
              "      <td>50</td>\n",
              "      <td>100</td>\n",
              "      <td>150</td>\n",
              "      <td>100</td>\n",
              "      <td>150</td>\n",
              "      <td>50</td>\n",
              "      <td>6</td>\n",
              "      <td>True</td>\n",
              "    </tr>\n",
              "    <tr>\n",
              "      <th>796</th>\n",
              "      <td>719</td>\n",
              "      <td>DiancieMega Diancie</td>\n",
              "      <td>Rock</td>\n",
              "      <td>Fairy</td>\n",
              "      <td>700</td>\n",
              "      <td>50</td>\n",
              "      <td>160</td>\n",
              "      <td>110</td>\n",
              "      <td>160</td>\n",
              "      <td>110</td>\n",
              "      <td>110</td>\n",
              "      <td>6</td>\n",
              "      <td>True</td>\n",
              "    </tr>\n",
              "    <tr>\n",
              "      <th>797</th>\n",
              "      <td>720</td>\n",
              "      <td>HoopaHoopa Confined</td>\n",
              "      <td>Psychic</td>\n",
              "      <td>Ghost</td>\n",
              "      <td>600</td>\n",
              "      <td>80</td>\n",
              "      <td>110</td>\n",
              "      <td>60</td>\n",
              "      <td>150</td>\n",
              "      <td>130</td>\n",
              "      <td>70</td>\n",
              "      <td>6</td>\n",
              "      <td>True</td>\n",
              "    </tr>\n",
              "    <tr>\n",
              "      <th>798</th>\n",
              "      <td>720</td>\n",
              "      <td>HoopaHoopa Unbound</td>\n",
              "      <td>Psychic</td>\n",
              "      <td>Dark</td>\n",
              "      <td>680</td>\n",
              "      <td>80</td>\n",
              "      <td>160</td>\n",
              "      <td>60</td>\n",
              "      <td>170</td>\n",
              "      <td>130</td>\n",
              "      <td>80</td>\n",
              "      <td>6</td>\n",
              "      <td>True</td>\n",
              "    </tr>\n",
              "    <tr>\n",
              "      <th>799</th>\n",
              "      <td>721</td>\n",
              "      <td>Volcanion</td>\n",
              "      <td>Fire</td>\n",
              "      <td>Water</td>\n",
              "      <td>600</td>\n",
              "      <td>80</td>\n",
              "      <td>110</td>\n",
              "      <td>120</td>\n",
              "      <td>130</td>\n",
              "      <td>90</td>\n",
              "      <td>70</td>\n",
              "      <td>6</td>\n",
              "      <td>True</td>\n",
              "    </tr>\n",
              "  </tbody>\n",
              "</table>\n",
              "<p>800 rows × 13 columns</p>\n",
              "</div>"
            ],
            "text/plain": [
              "       #                   Name   Type 1  Type 2  Total  HP  Attack  Defense  \\\n",
              "0      1              Bulbasaur    Grass  Poison    318  45      49       49   \n",
              "1      2                Ivysaur    Grass  Poison    405  60      62       63   \n",
              "2      3               Venusaur    Grass  Poison    525  80      82       83   \n",
              "3      3  VenusaurMega Venusaur    Grass  Poison    625  80     100      123   \n",
              "4      4             Charmander     Fire     NaN    309  39      52       43   \n",
              "..   ...                    ...      ...     ...    ...  ..     ...      ...   \n",
              "795  719                Diancie     Rock   Fairy    600  50     100      150   \n",
              "796  719    DiancieMega Diancie     Rock   Fairy    700  50     160      110   \n",
              "797  720    HoopaHoopa Confined  Psychic   Ghost    600  80     110       60   \n",
              "798  720     HoopaHoopa Unbound  Psychic    Dark    680  80     160       60   \n",
              "799  721              Volcanion     Fire   Water    600  80     110      120   \n",
              "\n",
              "     Sp. Atk  Sp. Def  Speed  Generation  Legendary  \n",
              "0         65       65     45           1      False  \n",
              "1         80       80     60           1      False  \n",
              "2        100      100     80           1      False  \n",
              "3        122      120     80           1      False  \n",
              "4         60       50     65           1      False  \n",
              "..       ...      ...    ...         ...        ...  \n",
              "795      100      150     50           6       True  \n",
              "796      160      110    110           6       True  \n",
              "797      150      130     70           6       True  \n",
              "798      170      130     80           6       True  \n",
              "799      130       90     70           6       True  \n",
              "\n",
              "[800 rows x 13 columns]"
            ]
          },
          "execution_count": 8,
          "metadata": {},
          "output_type": "execute_result"
        }
      ],
      "source": [
        "data"
      ]
    },
    {
      "cell_type": "code",
      "execution_count": 9,
      "metadata": {
        "execution": {
          "iopub.execute_input": "2023-10-09T10:04:03.140795Z",
          "iopub.status.busy": "2023-10-09T10:04:03.140438Z",
          "iopub.status.idle": "2023-10-09T10:04:03.145967Z",
          "shell.execute_reply": "2023-10-09T10:04:03.144877Z",
          "shell.execute_reply.started": "2023-10-09T10:04:03.140766Z"
        },
        "id": "4xuE8RS0F-1L",
        "trusted": true
      },
      "outputs": [],
      "source": [
        "data_raw = data.copy() # usually, if memory allows it, it's a good idea to keep a raw version of your data"
      ]
    },
    {
      "cell_type": "markdown",
      "metadata": {
        "id": "pW9qbuLEF-1L"
      },
      "source": [
        "# Pre-processing / encoding"
      ]
    },
    {
      "cell_type": "code",
      "execution_count": 10,
      "metadata": {
        "execution": {
          "iopub.execute_input": "2023-10-09T10:04:04.634264Z",
          "iopub.status.busy": "2023-10-09T10:04:04.633636Z",
          "iopub.status.idle": "2023-10-09T10:04:04.650997Z",
          "shell.execute_reply": "2023-10-09T10:04:04.649508Z",
          "shell.execute_reply.started": "2023-10-09T10:04:04.634221Z"
        },
        "id": "otv7GlCxF-1L",
        "trusted": true
      },
      "outputs": [
        {
          "name": "stdout",
          "output_type": "stream",
          "text": [
            "<class 'pandas.core.frame.DataFrame'>\n",
            "RangeIndex: 800 entries, 0 to 799\n",
            "Data columns (total 13 columns):\n",
            " #   Column      Non-Null Count  Dtype \n",
            "---  ------      --------------  ----- \n",
            " 0   #           800 non-null    int64 \n",
            " 1   Name        800 non-null    object\n",
            " 2   Type 1      800 non-null    object\n",
            " 3   Type 2      414 non-null    object\n",
            " 4   Total       800 non-null    int64 \n",
            " 5   HP          800 non-null    int64 \n",
            " 6   Attack      800 non-null    int64 \n",
            " 7   Defense     800 non-null    int64 \n",
            " 8   Sp. Atk     800 non-null    int64 \n",
            " 9   Sp. Def     800 non-null    int64 \n",
            " 10  Speed       800 non-null    int64 \n",
            " 11  Generation  800 non-null    int64 \n",
            " 12  Legendary   800 non-null    bool  \n",
            "dtypes: bool(1), int64(9), object(3)\n",
            "memory usage: 75.9+ KB\n"
          ]
        }
      ],
      "source": [
        "data.info()"
      ]
    },
    {
      "cell_type": "code",
      "execution_count": 11,
      "metadata": {
        "execution": {
          "iopub.execute_input": "2023-10-09T10:04:05.073708Z",
          "iopub.status.busy": "2023-10-09T10:04:05.073162Z",
          "iopub.status.idle": "2023-10-09T10:04:05.081791Z",
          "shell.execute_reply": "2023-10-09T10:04:05.080673Z",
          "shell.execute_reply.started": "2023-10-09T10:04:05.073676Z"
        },
        "id": "RjZqyB6bF-1L",
        "trusted": true
      },
      "outputs": [
        {
          "data": {
            "text/plain": [
              "#               0\n",
              "Name            0\n",
              "Type 1          0\n",
              "Type 2        386\n",
              "Total           0\n",
              "HP              0\n",
              "Attack          0\n",
              "Defense         0\n",
              "Sp. Atk         0\n",
              "Sp. Def         0\n",
              "Speed           0\n",
              "Generation      0\n",
              "Legendary       0\n",
              "dtype: int64"
            ]
          },
          "execution_count": 11,
          "metadata": {},
          "output_type": "execute_result"
        }
      ],
      "source": [
        "data.isna().sum()"
      ]
    },
    {
      "cell_type": "code",
      "execution_count": 12,
      "metadata": {
        "execution": {
          "iopub.execute_input": "2023-10-09T10:04:05.732577Z",
          "iopub.status.busy": "2023-10-09T10:04:05.732052Z",
          "iopub.status.idle": "2023-10-09T10:04:05.737607Z",
          "shell.execute_reply": "2023-10-09T10:04:05.736726Z",
          "shell.execute_reply.started": "2023-10-09T10:04:05.732545Z"
        },
        "id": "4whGrOvSF-1L",
        "trusted": true
      },
      "outputs": [],
      "source": [
        "data = data.drop(['#', 'Name', 'Type 2'], axis=1)"
      ]
    },
    {
      "cell_type": "code",
      "execution_count": 13,
      "metadata": {
        "execution": {
          "iopub.execute_input": "2023-10-09T10:04:17.132717Z",
          "iopub.status.busy": "2023-10-09T10:04:17.132078Z",
          "iopub.status.idle": "2023-10-09T10:04:17.137572Z",
          "shell.execute_reply": "2023-10-09T10:04:17.136616Z",
          "shell.execute_reply.started": "2023-10-09T10:04:17.132680Z"
        },
        "id": "ZabDJRZaF-1M",
        "trusted": true
      },
      "outputs": [],
      "source": [
        "data['Legendary'] = data['Legendary'].astype(int)"
      ]
    },
    {
      "cell_type": "code",
      "execution_count": 14,
      "metadata": {
        "execution": {
          "iopub.execute_input": "2023-10-09T10:04:25.425522Z",
          "iopub.status.busy": "2023-10-09T10:04:25.424830Z",
          "iopub.status.idle": "2023-10-09T10:04:25.433340Z",
          "shell.execute_reply": "2023-10-09T10:04:25.432589Z",
          "shell.execute_reply.started": "2023-10-09T10:04:25.425473Z"
        },
        "id": "bqVbYkL3F-1M",
        "trusted": true
      },
      "outputs": [
        {
          "data": {
            "text/plain": [
              "Type 1        object\n",
              "Total          int64\n",
              "HP             int64\n",
              "Attack         int64\n",
              "Defense        int64\n",
              "Sp. Atk        int64\n",
              "Sp. Def        int64\n",
              "Speed          int64\n",
              "Generation     int64\n",
              "Legendary      int64\n",
              "dtype: object"
            ]
          },
          "execution_count": 14,
          "metadata": {},
          "output_type": "execute_result"
        }
      ],
      "source": [
        "data.dtypes"
      ]
    },
    {
      "cell_type": "markdown",
      "metadata": {
        "id": "j4DN8agr8Wp_"
      },
      "source": [
        "Categorical variables are one-hot encoded"
      ]
    },
    {
      "cell_type": "code",
      "execution_count": 15,
      "metadata": {
        "execution": {
          "iopub.execute_input": "2023-10-09T10:04:27.609994Z",
          "iopub.status.busy": "2023-10-09T10:04:27.609285Z",
          "iopub.status.idle": "2023-10-09T10:04:27.616135Z",
          "shell.execute_reply": "2023-10-09T10:04:27.615476Z",
          "shell.execute_reply.started": "2023-10-09T10:04:27.609945Z"
        },
        "id": "FCvblzRqF-1M",
        "trusted": true
      },
      "outputs": [],
      "source": [
        "def onehot_encode(df, column, prefix):\n",
        "    df = df.copy()\n",
        "    dummies = pd.get_dummies(df[column], prefix=prefix)\n",
        "    df = pd.concat([df, dummies], axis=1)\n",
        "    df = df.drop(column, axis=1)\n",
        "    return df"
      ]
    },
    {
      "cell_type": "code",
      "execution_count": 16,
      "metadata": {
        "execution": {
          "iopub.execute_input": "2023-10-09T10:04:27.941093Z",
          "iopub.status.busy": "2023-10-09T10:04:27.940418Z",
          "iopub.status.idle": "2023-10-09T10:04:27.950841Z",
          "shell.execute_reply": "2023-10-09T10:04:27.949833Z",
          "shell.execute_reply.started": "2023-10-09T10:04:27.941046Z"
        },
        "id": "IOOSfBXJF-1N",
        "trusted": true
      },
      "outputs": [],
      "source": [
        "data = onehot_encode(data, 'Type 1', 't')\n",
        "data = onehot_encode(data, 'Generation', 'g')"
      ]
    },
    {
      "cell_type": "code",
      "execution_count": 17,
      "metadata": {
        "execution": {
          "iopub.execute_input": "2023-10-09T10:04:28.321322Z",
          "iopub.status.busy": "2023-10-09T10:04:28.321000Z",
          "iopub.status.idle": "2023-10-09T10:04:28.345828Z",
          "shell.execute_reply": "2023-10-09T10:04:28.344806Z",
          "shell.execute_reply.started": "2023-10-09T10:04:28.321293Z"
        },
        "id": "lJmDYSiwF-1N",
        "trusted": true
      },
      "outputs": [
        {
          "data": {
            "text/plain": [
              "(800, 32)"
            ]
          },
          "execution_count": 17,
          "metadata": {},
          "output_type": "execute_result"
        }
      ],
      "source": [
        "data.shape"
      ]
    },
    {
      "cell_type": "markdown",
      "metadata": {
        "id": "30niefA6F-1N"
      },
      "source": [
        "## Splitting and Scaling"
      ]
    },
    {
      "cell_type": "code",
      "execution_count": 18,
      "metadata": {
        "id": "a9N2nv8O8iKT"
      },
      "outputs": [
        {
          "data": {
            "text/plain": [
              "Index(['Total', 'HP', 'Attack', 'Defense', 'Sp. Atk', 'Sp. Def', 'Speed',\n",
              "       'Legendary', 't_Bug', 't_Dark', 't_Dragon', 't_Electric', 't_Fairy',\n",
              "       't_Fighting', 't_Fire', 't_Flying', 't_Ghost', 't_Grass', 't_Ground',\n",
              "       't_Ice', 't_Normal', 't_Poison', 't_Psychic', 't_Rock', 't_Steel',\n",
              "       't_Water', 'g_1', 'g_2', 'g_3', 'g_4', 'g_5', 'g_6'],\n",
              "      dtype='object')"
            ]
          },
          "execution_count": 18,
          "metadata": {},
          "output_type": "execute_result"
        }
      ],
      "source": [
        "data.columns # note that only the first 7 features are continuous now"
      ]
    },
    {
      "cell_type": "code",
      "execution_count": 19,
      "metadata": {
        "execution": {
          "iopub.execute_input": "2023-10-09T10:04:36.262122Z",
          "iopub.status.busy": "2023-10-09T10:04:36.261494Z",
          "iopub.status.idle": "2023-10-09T10:04:36.269171Z",
          "shell.execute_reply": "2023-10-09T10:04:36.268451Z",
          "shell.execute_reply.started": "2023-10-09T10:04:36.262071Z"
        },
        "id": "KR-yDxraF-1N",
        "trusted": true
      },
      "outputs": [],
      "source": [
        "y = data['Legendary']\n",
        "X = data.drop('Legendary', axis=1)"
      ]
    },
    {
      "cell_type": "code",
      "execution_count": 20,
      "metadata": {
        "execution": {
          "iopub.execute_input": "2023-10-09T10:04:37.532104Z",
          "iopub.status.busy": "2023-10-09T10:04:37.531465Z",
          "iopub.status.idle": "2023-10-09T10:04:37.542125Z",
          "shell.execute_reply": "2023-10-09T10:04:37.541465Z",
          "shell.execute_reply.started": "2023-10-09T10:04:37.532051Z"
        },
        "id": "y14BFzZyF-1N",
        "trusted": true
      },
      "outputs": [],
      "source": [
        "scaler = StandardScaler()\n",
        "\n",
        "X_scaled = scaler.fit_transform(X.iloc[:,:7])\n",
        "X = np.concatenate((X_scaled, np.array(X.iloc[:,7:])), axis=1)"
      ]
    },
    {
      "cell_type": "code",
      "execution_count": 23,
      "metadata": {
        "execution": {
          "iopub.execute_input": "2023-10-09T10:04:40.092048Z",
          "iopub.status.busy": "2023-10-09T10:04:40.091562Z",
          "iopub.status.idle": "2023-10-09T10:04:40.097770Z",
          "shell.execute_reply": "2023-10-09T10:04:40.096980Z",
          "shell.execute_reply.started": "2023-10-09T10:04:40.092017Z"
        },
        "id": "XyY5f5BxF-1N",
        "trusted": true
      },
      "outputs": [],
      "source": [
        "# keep the proportions for the split equal and specify a seed of 42, we want a fair fight!\n",
        "\n",
        "train_size = 0.6\n",
        "valid_size = 0.4\n",
        "X_train, X_test, y_train, y_test = train_test_split(X, y, train_size=train_size, random_state=42)\n",
        "X_valid, X_test, y_valid, y_test = train_test_split(X_test, y_test, train_size=valid_size, random_state=42)"
      ]
    },
    {
      "cell_type": "markdown",
      "metadata": {
        "id": "SeI7sgXRF-1N"
      },
      "source": [
        "# Model definition"
      ]
    },
    {
      "cell_type": "code",
      "execution_count": 26,
      "metadata": {
        "execution": {
          "iopub.execute_input": "2023-10-09T10:04:41.290174Z",
          "iopub.status.busy": "2023-10-09T10:04:41.289646Z",
          "iopub.status.idle": "2023-10-09T10:04:41.296775Z",
          "shell.execute_reply": "2023-10-09T10:04:41.295898Z",
          "shell.execute_reply.started": "2023-10-09T10:04:41.290135Z"
        },
        "id": "eYpu0pOIF-1N",
        "trusted": true
      },
      "outputs": [
        {
          "name": "stdout",
          "output_type": "stream",
          "text": [
            "Using cpu device\n"
          ]
        }
      ],
      "source": [
        "device = torch.device(\"cuda\" if torch.cuda.is_available() else \"cpu\")\n",
        "if platform.system() == \"Darwin\":\n",
        "    device = torch.device(\"mps\" if torch.backends.mps.is_available() else \"cpu\")\n",
        "    \n",
        "print(f\"Using {device} device\")"
      ]
    },
    {
      "cell_type": "markdown",
      "metadata": {
        "id": "V6VZp4IQ9IpG"
      },
      "source": [
        "### Define your model :"
      ]
    },
    {
      "cell_type": "markdown",
      "metadata": {
        "id": "hnt0qXDZ_29X"
      },
      "source": [
        "Choose yourself in the model:\n",
        "- number of hidden layers\n",
        "- number of neurons per layer (careful with input and output, these are not a choice)\n",
        "- activation functions\n",
        "- any other possible component among those seen so far in theory."
      ]
    },
    {
      "cell_type": "code",
      "execution_count": 20,
      "metadata": {
        "execution": {
          "iopub.execute_input": "2023-10-09T10:04:42.310280Z",
          "iopub.status.busy": "2023-10-09T10:04:42.309954Z",
          "iopub.status.idle": "2023-10-09T10:04:42.317352Z",
          "shell.execute_reply": "2023-10-09T10:04:42.316057Z",
          "shell.execute_reply.started": "2023-10-09T10:04:42.310252Z"
        },
        "id": "2x2t4rEtF-1N",
        "trusted": true
      },
      "outputs": [],
      "source": [
        "# TODO"
      ]
    },
    {
      "cell_type": "markdown",
      "metadata": {
        "id": "oeAUjsZLcmXu"
      },
      "source": [
        "Instantiate your model and print it out"
      ]
    },
    {
      "cell_type": "code",
      "execution_count": null,
      "metadata": {
        "execution": {
          "iopub.execute_input": "2023-10-09T10:04:49.934880Z",
          "iopub.status.busy": "2023-10-09T10:04:49.934535Z",
          "iopub.status.idle": "2023-10-09T10:04:49.962352Z",
          "shell.execute_reply": "2023-10-09T10:04:49.961502Z",
          "shell.execute_reply.started": "2023-10-09T10:04:49.934850Z"
        },
        "id": "E9ivUgk_F-1N",
        "trusted": true
      },
      "outputs": [],
      "source": [
        "# TODO"
      ]
    },
    {
      "cell_type": "markdown",
      "metadata": {
        "id": "sXCiwbQd_T-2"
      },
      "source": [
        "### Hyperparameters:"
      ]
    },
    {
      "cell_type": "markdown",
      "metadata": {
        "id": "L-1fTWhB_9HB"
      },
      "source": [
        "Choose carefully your:\n",
        "- learning rate (this is usually the most important hyperparameter to get right, but some optimizers are more forgiving than others)\n",
        "- batch size\n",
        "- number of epochs\n",
        "- other hyperparameters that you might need"
      ]
    },
    {
      "cell_type": "code",
      "execution_count": 22,
      "metadata": {
        "execution": {
          "iopub.execute_input": "2023-10-09T10:04:57.406348Z",
          "iopub.status.busy": "2023-10-09T10:04:57.405999Z",
          "iopub.status.idle": "2023-10-09T10:04:57.410729Z",
          "shell.execute_reply": "2023-10-09T10:04:57.409643Z",
          "shell.execute_reply.started": "2023-10-09T10:04:57.406319Z"
        },
        "id": "GFumcDhCF-1N",
        "trusted": true
      },
      "outputs": [],
      "source": [
        "# TODO"
      ]
    },
    {
      "cell_type": "markdown",
      "metadata": {
        "id": "M9LK0StY_kyS"
      },
      "source": [
        "### Loss function and optimizer:"
      ]
    },
    {
      "cell_type": "markdown",
      "metadata": {
        "id": "KvHQnWrmABgx"
      },
      "source": [
        "- What's the appropriate loss function for the task?\n",
        "- Decide which optimizer you want to use ([Documentation](https://pytorch.org/docs/stable/optim.html))"
      ]
    },
    {
      "cell_type": "code",
      "execution_count": 32,
      "metadata": {
        "execution": {
          "iopub.execute_input": "2023-10-09T10:04:59.179553Z",
          "iopub.status.busy": "2023-10-09T10:04:59.179191Z",
          "iopub.status.idle": "2023-10-09T10:04:59.185130Z",
          "shell.execute_reply": "2023-10-09T10:04:59.183865Z",
          "shell.execute_reply.started": "2023-10-09T10:04:59.179521Z"
        },
        "id": "hFYvvA8GF-1N",
        "trusted": true
      },
      "outputs": [],
      "source": [
        "# TODO"
      ]
    },
    {
      "cell_type": "markdown",
      "metadata": {
        "id": "C86hoyC7vnKw"
      },
      "source": [
        "### Dataset and loaders:"
      ]
    },
    {
      "cell_type": "markdown",
      "metadata": {
        "id": "ra1bhn_A_tTj"
      },
      "source": [
        "Define your TensorDatasets and DataLoaders; remember to use the appropriate dtype for your tensors."
      ]
    },
    {
      "cell_type": "code",
      "execution_count": 24,
      "metadata": {
        "execution": {
          "iopub.execute_input": "2023-10-09T10:12:27.546392Z",
          "iopub.status.busy": "2023-10-09T10:12:27.545708Z",
          "iopub.status.idle": "2023-10-09T10:12:27.555392Z",
          "shell.execute_reply": "2023-10-09T10:12:27.554394Z",
          "shell.execute_reply.started": "2023-10-09T10:12:27.546321Z"
        },
        "id": "LVpU6mGsF-1O",
        "trusted": true
      },
      "outputs": [],
      "source": [
        "# TODO"
      ]
    },
    {
      "cell_type": "code",
      "execution_count": 25,
      "metadata": {
        "id": "ceHoIeQst3mA"
      },
      "outputs": [],
      "source": [
        "# Keep track of training and validation losses during training\n",
        "train_loss_list = []\n",
        "valid_loss_list = []\n",
        "\n",
        "train_length = len(trainloader)\n",
        "valid_length = len(validloader)"
      ]
    },
    {
      "cell_type": "markdown",
      "metadata": {
        "id": "MJZ_IOmgvjbr"
      },
      "source": [
        "### Training"
      ]
    },
    {
      "cell_type": "markdown",
      "metadata": {
        "id": "pePVXtXzusRQ"
      },
      "source": [
        "Implement your training and evaluation (for the validation set) loops"
      ]
    },
    {
      "cell_type": "code",
      "execution_count": null,
      "metadata": {
        "id": "EqK5jG1NF-1O",
        "trusted": true
      },
      "outputs": [],
      "source": [
        "# TODO"
      ]
    },
    {
      "cell_type": "markdown",
      "metadata": {
        "id": "w2u6ELJpF-1O"
      },
      "source": [
        "# Results"
      ]
    },
    {
      "cell_type": "markdown",
      "metadata": {
        "id": "lTAGxV5bMA4b"
      },
      "source": [
        "### Plotting"
      ]
    },
    {
      "cell_type": "markdown",
      "metadata": {
        "id": "E5KnF__4LrGK"
      },
      "source": [
        "Plot out the training and validation losses over the epochs"
      ]
    },
    {
      "cell_type": "code",
      "execution_count": null,
      "metadata": {
        "id": "t5ytQiecNIOC"
      },
      "outputs": [],
      "source": [
        "plt.plot(..., label='train') # TODO\n",
        "plt.plot(..., label='valid') # TODO\n",
        "plt.legend(loc=\"best\")\n",
        "plt.grid(\"on\")\n",
        "plt.show()"
      ]
    },
    {
      "cell_type": "markdown",
      "metadata": {
        "id": "fPs9CwgJMLDq"
      },
      "source": [
        "### Metrics"
      ]
    },
    {
      "cell_type": "markdown",
      "metadata": {
        "id": "kAHRX5PgMOoZ"
      },
      "source": [
        "Print out appropriate metrics for the task"
      ]
    },
    {
      "cell_type": "code",
      "execution_count": null,
      "metadata": {
        "id": "0K48qnVJ0b3s"
      },
      "outputs": [],
      "source": [
        "from sklearn.metrics import accuracy_score, confusion_matrix, fbeta_score, classification_report\n",
        "\n",
        "# TODO"
      ]
    },
    {
      "cell_type": "markdown",
      "metadata": {
        "id": "3VpmU6TtKVYy"
      },
      "source": [
        "Did you manage to catch them all?"
      ]
    }
  ],
  "metadata": {
    "accelerator": "GPU",
    "colab": {
      "gpuType": "T4",
      "provenance": [],
      "toc_visible": true
    },
    "kernelspec": {
      "display_name": "Python 3",
      "name": "python3"
    },
    "language_info": {
      "codemirror_mode": {
        "name": "ipython",
        "version": 3
      },
      "file_extension": ".py",
      "mimetype": "text/x-python",
      "name": "python",
      "nbconvert_exporter": "python",
      "pygments_lexer": "ipython3",
      "version": "3.12.0"
    }
  },
  "nbformat": 4,
  "nbformat_minor": 0
}
