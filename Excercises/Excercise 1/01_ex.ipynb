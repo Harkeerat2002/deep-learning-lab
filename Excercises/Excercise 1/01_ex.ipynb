{
 "cells": [
  {
   "cell_type": "markdown",
   "metadata": {},
   "source": [
    "# Exercise 1\n",
    "## Authors: E. Vercesi; A. Dei Rossi, T. Marzi, M. Palomba\n",
    "\n",
    "This Notebook is a guideline for Exercise 1"
   ]
  },
  {
   "cell_type": "markdown",
   "metadata": {},
   "source": [
    "## Lists\n",
    "Lists are one of the fundamental data structures in Python, used to store collections of items.\n",
    "\n",
    "Give the following list (of fruits), learn how to \n",
    "1. Acces elements (which is the index of the first element?)\n",
    "2. Modify elements (e.g, change the third element to \"pineapple\")\n",
    "3. Get the length\n",
    "4. Add one element at the end\n",
    "5. Remove one element (Take care of what returns and what happens to the original list. What is the meaning of in-place method?)\n",
    "6. Learn about the meaning of slicing, then slice your list\n",
    "7. Learn about the meaning of list comprehension and filter your list of fruits by keeping only fruits having an \"a\" inside"
   ]
  },
  {
   "cell_type": "code",
   "execution_count": null,
   "metadata": {
    "trusted": true
   },
   "outputs": [],
   "source": [
    "fruits = [\"apple\", \"banana\", \"cherry\", \"orange\"]\n",
    "\n",
    "# 1. Acess the first item of the list\n",
    "print(fruits[0])\n",
    "\n",
    "# 2. Change the value of the third element to \"pineapple\"\n",
    "fruits[2] = \"pineapple\"\n",
    "print(fruits)\n",
    "\n",
    "# 3. Get the Length of the list \n",
    "print(len(fruits))\n",
    "\n",
    "# 4. Add on element to the end of the list\n",
    "fruits.append(\"mango\")\n",
    "print(fruits)\n",
    "\n",
    "# 5. Add on element to the second position"
   ]
  },
  {
   "cell_type": "markdown",
   "metadata": {},
   "source": [
    "## Numpy\n",
    "NumPy is a fundamental Python library for numerical and scientific computing. It provides support for working with large, multi-dimensional arrays and matrices, as well as a collection of mathematical functions to operate on these arrays efficiently. \n",
    "In this part, we will start learning some numpy basics\n",
    "\n",
    "### Some exercises with numpy\n",
    "Create random multidimensionals array and inspect their shape. Try different combinations of dimensions and different distributions (normal, uniform)"
   ]
  },
  {
   "cell_type": "code",
   "execution_count": null,
   "metadata": {
    "trusted": true
   },
   "outputs": [],
   "source": [
    "import numpy as np # Import the package"
   ]
  },
  {
   "cell_type": "markdown",
   "metadata": {},
   "source": [
    "Convert a Python list in a numpy array, and try to access the first element (which is the index of the first element?). What happens if you try the same procedure with a tuple? And what with a set?"
   ]
  },
  {
   "cell_type": "code",
   "execution_count": null,
   "metadata": {
    "trusted": true
   },
   "outputs": [],
   "source": [
    "my_list = [1, 2, 3]\n",
    "my_tuple = (1, 2, 3)\n",
    "my_set = {1, 2, 3}"
   ]
  },
  {
   "cell_type": "markdown",
   "metadata": {},
   "source": [
    "Given $v = [1, 2, 3]^T, w = [4, 5, 6]^T$ try to implement $v - w$, that is, element-wise subtraction. What happens if $v = [1, 2]^T$? And if $v = \\begin{bmatrix} 4 & 5 \\\\ 7 & 8 \\\\ 6 & 9 \\end{bmatrix}$? What should you do if you want to subtract $w$ to all the columns of $v$ in this last case?"
   ]
  },
  {
   "cell_type": "code",
   "execution_count": null,
   "metadata": {
    "trusted": true
   },
   "outputs": [],
   "source": [
    "v = np.asarray([1, 2, 3])\n",
    "w = np.asarray([4, 5, 6])\n",
    "v = np.asarray([1, 2])\n",
    "v = np.asarray([[4, 5], [7, 8], [6, 9]])"
   ]
  },
  {
   "cell_type": "markdown",
   "metadata": {},
   "source": [
    "Given $v = [1, 2, 3]^T, \\lambda = 3$ perform $\\lambda v$. Be carefoul on the name you choose for the $\\lambda$ variable in python and explain why \"lambda\" is not a good option"
   ]
  },
  {
   "cell_type": "code",
   "execution_count": null,
   "metadata": {
    "trusted": true
   },
   "outputs": [],
   "source": [
    "v = np.asarray([1, 2, 3])\n",
    "# TODO Define lambda"
   ]
  },
  {
   "cell_type": "markdown",
   "metadata": {},
   "source": [
    "Get the max of $v = [1, 2, 3]^T$"
   ]
  },
  {
   "cell_type": "code",
   "execution_count": null,
   "metadata": {
    "trusted": true
   },
   "outputs": [],
   "source": [
    "v = np.asarray([1, 2, 3])"
   ]
  },
  {
   "cell_type": "markdown",
   "metadata": {},
   "source": [
    "Learn and explain the differences between `np.dot`, `@`, `np.matmul` and `*`. Then, performs these operation matrices of different sizes. If you face some errors, try to explain why"
   ]
  },
  {
   "cell_type": "code",
   "execution_count": null,
   "metadata": {
    "trusted": true
   },
   "outputs": [],
   "source": []
  },
  {
   "cell_type": "markdown",
   "metadata": {},
   "source": [
    "Learn how to define functions in Python. Then, define a function $f : x \\mapsto \\sqrt{x} + x^2 $ and apply it to every element of $v = [4, 9, 16]$. Note: this can be easly by only rely on `numpy` function. Learn also how to set some parameters as default values in functions and try to implement a version of this function that uses this features."
   ]
  },
  {
   "cell_type": "code",
   "execution_count": null,
   "metadata": {
    "trusted": true
   },
   "outputs": [],
   "source": [
    "def f(x, with_square_root = True):\n",
    "    # TODO write the function\n",
    "    return 0"
   ]
  },
  {
   "cell_type": "markdown",
   "metadata": {},
   "source": [
    "Reade the documentation of `np.arange` and `np.linspace`. Then, create 10 evenly spaced points in the interval $[0, 1]$ and $[0.5, 10]$ using both methods."
   ]
  },
  {
   "cell_type": "code",
   "execution_count": null,
   "metadata": {
    "trusted": true
   },
   "outputs": [],
   "source": []
  },
  {
   "cell_type": "markdown",
   "metadata": {},
   "source": [
    "Learn about the meaning of slicing; then create a 4x4 matrix with random values between 1 and 10 and print: first row, first column, all the rows but the first, last column, the 2x2 core of the matrix"
   ]
  },
  {
   "cell_type": "code",
   "execution_count": null,
   "metadata": {
    "trusted": true
   },
   "outputs": [],
   "source": []
  },
  {
   "cell_type": "markdown",
   "metadata": {},
   "source": [
    "Create a random array of the size you prefere and print the maximum, the minimum and the sum. Try to create some multidimensional array to understand how to get e.g the maximum along different dimensions"
   ]
  },
  {
   "cell_type": "code",
   "execution_count": null,
   "metadata": {
    "trusted": true
   },
   "outputs": [],
   "source": []
  },
  {
   "cell_type": "markdown",
   "metadata": {},
   "source": [
    "Create a random array of integers dimensions $ 2 \\times 4 \\times 6$ and try to reshape it in varius way. If you face some errors, try to understand why. Learn also the documentation of funtions such as `np.newaxis` and `np.squeeze`: understand what they do and try them."
   ]
  },
  {
   "cell_type": "code",
   "execution_count": null,
   "metadata": {
    "trusted": true
   },
   "outputs": [],
   "source": []
  }
 ],
 "metadata": {
  "kernelspec": {
   "display_name": "Python 3",
   "language": "python",
   "name": "python3"
  },
  "language_info": {
   "codemirror_mode": {
    "name": "ipython",
    "version": 3
   },
   "file_extension": ".py",
   "mimetype": "text/x-python",
   "name": "python",
   "nbconvert_exporter": "python",
   "pygments_lexer": "ipython3",
   "version": "3.12.0"
  }
 },
 "nbformat": 4,
 "nbformat_minor": 4
}
